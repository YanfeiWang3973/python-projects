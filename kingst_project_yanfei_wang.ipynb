{
  "nbformat": 4,
  "nbformat_minor": 0,
  "metadata": {
    "colab": {
      "provenance": [],
      "authorship_tag": "ABX9TyNNUAegL/Te5OQVt/YpeJCQ",
      "include_colab_link": true
    },
    "kernelspec": {
      "name": "python3",
      "display_name": "Python 3"
    },
    "language_info": {
      "name": "python"
    }
  },
  "cells": [
    {
      "cell_type": "markdown",
      "metadata": {
        "id": "view-in-github",
        "colab_type": "text"
      },
      "source": [
        "<a href=\"https://colab.research.google.com/github/YanfeiWang3973/python-projects/blob/main/kingst_project_yanfei_wang.ipynb\" target=\"_parent\"><img src=\"https://colab.research.google.com/assets/colab-badge.svg\" alt=\"Open In Colab\"/></a>"
      ]
    },
    {
      "cell_type": "code",
      "source": [
        "import pandas as pd\n",
        "import numpy as np\n",
        "import matplotlib.pyplot as plt\n",
        "import seaborn as sns"
      ],
      "metadata": {
        "id": "lvplezSoiBZz"
      },
      "execution_count": null,
      "outputs": []
    },
    {
      "cell_type": "code",
      "source": [
        "#import data from web\n",
        "travel_times_url = 'https://ckan0.cf.opendata.inter.prod-toronto.ca/dataset/e05188e5-7af8-426a-8080-942437526a16/resource/c0047fbc-73f2-40e6-8490-195c26195002/download/detailed-bluetooth-travel-time-2017.gz'\n",
        "\n",
        "#type(travel_times_url)\n",
        "#using pandas to read the url data \n",
        "travel_times = pd.read_csv(travel_times_url)\n",
        "\n",
        "#display a sample of the data\n",
        "travel_times.tail() "
      ],
      "metadata": {
        "id": "w_ZVpOjfVO_i",
        "colab": {
          "base_uri": "https://localhost:8080/",
          "height": 337
        },
        "outputId": "f6ce1dda-dcad-475b-c5b1-d9cc9271d433"
      },
      "execution_count": null,
      "outputs": [
        {
          "output_type": "execute_result",
          "data": {
            "text/plain": [
              "           result_id         datetime_bin day_type category period_name    tt  \\\n",
              "1477747  EA_BV_QU_BV  2017-12-31 22:50:00  Weekend    Pilot     Evening  34.5   \n",
              "1477748  EA_BV_QU_BV  2017-12-31 23:00:00  Weekend    Pilot         NaN  33.0   \n",
              "1477749  EA_BV_QU_BV  2017-12-31 23:05:00  Weekend    Pilot         NaN  35.0   \n",
              "1477750  EA_BV_QU_BV  2017-12-31 23:35:00  Weekend    Pilot         NaN  30.0   \n",
              "1477751  EA_BV_QU_BV  2017-12-31 23:50:00  Weekend    Pilot         NaN  51.0   \n",
              "\n",
              "         obs  \n",
              "1477747    2  \n",
              "1477748    1  \n",
              "1477749    1  \n",
              "1477750    1  \n",
              "1477751    1  "
            ],
            "text/html": [
              "\n",
              "  <div id=\"df-1c5590cb-82e8-404b-a016-dec114b22a9f\">\n",
              "    <div class=\"colab-df-container\">\n",
              "      <div>\n",
              "<style scoped>\n",
              "    .dataframe tbody tr th:only-of-type {\n",
              "        vertical-align: middle;\n",
              "    }\n",
              "\n",
              "    .dataframe tbody tr th {\n",
              "        vertical-align: top;\n",
              "    }\n",
              "\n",
              "    .dataframe thead th {\n",
              "        text-align: right;\n",
              "    }\n",
              "</style>\n",
              "<table border=\"1\" class=\"dataframe\">\n",
              "  <thead>\n",
              "    <tr style=\"text-align: right;\">\n",
              "      <th></th>\n",
              "      <th>result_id</th>\n",
              "      <th>datetime_bin</th>\n",
              "      <th>day_type</th>\n",
              "      <th>category</th>\n",
              "      <th>period_name</th>\n",
              "      <th>tt</th>\n",
              "      <th>obs</th>\n",
              "    </tr>\n",
              "  </thead>\n",
              "  <tbody>\n",
              "    <tr>\n",
              "      <th>1477747</th>\n",
              "      <td>EA_BV_QU_BV</td>\n",
              "      <td>2017-12-31 22:50:00</td>\n",
              "      <td>Weekend</td>\n",
              "      <td>Pilot</td>\n",
              "      <td>Evening</td>\n",
              "      <td>34.5</td>\n",
              "      <td>2</td>\n",
              "    </tr>\n",
              "    <tr>\n",
              "      <th>1477748</th>\n",
              "      <td>EA_BV_QU_BV</td>\n",
              "      <td>2017-12-31 23:00:00</td>\n",
              "      <td>Weekend</td>\n",
              "      <td>Pilot</td>\n",
              "      <td>NaN</td>\n",
              "      <td>33.0</td>\n",
              "      <td>1</td>\n",
              "    </tr>\n",
              "    <tr>\n",
              "      <th>1477749</th>\n",
              "      <td>EA_BV_QU_BV</td>\n",
              "      <td>2017-12-31 23:05:00</td>\n",
              "      <td>Weekend</td>\n",
              "      <td>Pilot</td>\n",
              "      <td>NaN</td>\n",
              "      <td>35.0</td>\n",
              "      <td>1</td>\n",
              "    </tr>\n",
              "    <tr>\n",
              "      <th>1477750</th>\n",
              "      <td>EA_BV_QU_BV</td>\n",
              "      <td>2017-12-31 23:35:00</td>\n",
              "      <td>Weekend</td>\n",
              "      <td>Pilot</td>\n",
              "      <td>NaN</td>\n",
              "      <td>30.0</td>\n",
              "      <td>1</td>\n",
              "    </tr>\n",
              "    <tr>\n",
              "      <th>1477751</th>\n",
              "      <td>EA_BV_QU_BV</td>\n",
              "      <td>2017-12-31 23:50:00</td>\n",
              "      <td>Weekend</td>\n",
              "      <td>Pilot</td>\n",
              "      <td>NaN</td>\n",
              "      <td>51.0</td>\n",
              "      <td>1</td>\n",
              "    </tr>\n",
              "  </tbody>\n",
              "</table>\n",
              "</div>\n",
              "      <button class=\"colab-df-convert\" onclick=\"convertToInteractive('df-1c5590cb-82e8-404b-a016-dec114b22a9f')\"\n",
              "              title=\"Convert this dataframe to an interactive table.\"\n",
              "              style=\"display:none;\">\n",
              "        \n",
              "  <svg xmlns=\"http://www.w3.org/2000/svg\" height=\"24px\"viewBox=\"0 0 24 24\"\n",
              "       width=\"24px\">\n",
              "    <path d=\"M0 0h24v24H0V0z\" fill=\"none\"/>\n",
              "    <path d=\"M18.56 5.44l.94 2.06.94-2.06 2.06-.94-2.06-.94-.94-2.06-.94 2.06-2.06.94zm-11 1L8.5 8.5l.94-2.06 2.06-.94-2.06-.94L8.5 2.5l-.94 2.06-2.06.94zm10 10l.94 2.06.94-2.06 2.06-.94-2.06-.94-.94-2.06-.94 2.06-2.06.94z\"/><path d=\"M17.41 7.96l-1.37-1.37c-.4-.4-.92-.59-1.43-.59-.52 0-1.04.2-1.43.59L10.3 9.45l-7.72 7.72c-.78.78-.78 2.05 0 2.83L4 21.41c.39.39.9.59 1.41.59.51 0 1.02-.2 1.41-.59l7.78-7.78 2.81-2.81c.8-.78.8-2.07 0-2.86zM5.41 20L4 18.59l7.72-7.72 1.47 1.35L5.41 20z\"/>\n",
              "  </svg>\n",
              "      </button>\n",
              "      \n",
              "  <style>\n",
              "    .colab-df-container {\n",
              "      display:flex;\n",
              "      flex-wrap:wrap;\n",
              "      gap: 12px;\n",
              "    }\n",
              "\n",
              "    .colab-df-convert {\n",
              "      background-color: #E8F0FE;\n",
              "      border: none;\n",
              "      border-radius: 50%;\n",
              "      cursor: pointer;\n",
              "      display: none;\n",
              "      fill: #1967D2;\n",
              "      height: 32px;\n",
              "      padding: 0 0 0 0;\n",
              "      width: 32px;\n",
              "    }\n",
              "\n",
              "    .colab-df-convert:hover {\n",
              "      background-color: #E2EBFA;\n",
              "      box-shadow: 0px 1px 2px rgba(60, 64, 67, 0.3), 0px 1px 3px 1px rgba(60, 64, 67, 0.15);\n",
              "      fill: #174EA6;\n",
              "    }\n",
              "\n",
              "    [theme=dark] .colab-df-convert {\n",
              "      background-color: #3B4455;\n",
              "      fill: #D2E3FC;\n",
              "    }\n",
              "\n",
              "    [theme=dark] .colab-df-convert:hover {\n",
              "      background-color: #434B5C;\n",
              "      box-shadow: 0px 1px 3px 1px rgba(0, 0, 0, 0.15);\n",
              "      filter: drop-shadow(0px 1px 2px rgba(0, 0, 0, 0.3));\n",
              "      fill: #FFFFFF;\n",
              "    }\n",
              "  </style>\n",
              "\n",
              "      <script>\n",
              "        const buttonEl =\n",
              "          document.querySelector('#df-1c5590cb-82e8-404b-a016-dec114b22a9f button.colab-df-convert');\n",
              "        buttonEl.style.display =\n",
              "          google.colab.kernel.accessAllowed ? 'block' : 'none';\n",
              "\n",
              "        async function convertToInteractive(key) {\n",
              "          const element = document.querySelector('#df-1c5590cb-82e8-404b-a016-dec114b22a9f');\n",
              "          const dataTable =\n",
              "            await google.colab.kernel.invokeFunction('convertToInteractive',\n",
              "                                                     [key], {});\n",
              "          if (!dataTable) return;\n",
              "\n",
              "          const docLinkHtml = 'Like what you see? Visit the ' +\n",
              "            '<a target=\"_blank\" href=https://colab.research.google.com/notebooks/data_table.ipynb>data table notebook</a>'\n",
              "            + ' to learn more about interactive tables.';\n",
              "          element.innerHTML = '';\n",
              "          dataTable['output_type'] = 'display_data';\n",
              "          await google.colab.output.renderOutput(dataTable, element);\n",
              "          const docLink = document.createElement('div');\n",
              "          docLink.innerHTML = docLinkHtml;\n",
              "          element.appendChild(docLink);\n",
              "        }\n",
              "      </script>\n",
              "    </div>\n",
              "  </div>\n",
              "  "
            ]
          },
          "metadata": {},
          "execution_count": 2
        }
      ]
    },
    {
      "cell_type": "code",
      "source": [
        "!pip install geopandas #install : !pip -- name of the library you want to install "
      ],
      "metadata": {
        "colab": {
          "base_uri": "https://localhost:8080/"
        },
        "id": "i67CGGfO6QtK",
        "outputId": "91d5353c-830a-41c0-df1b-9d0c21078f5d"
      },
      "execution_count": null,
      "outputs": [
        {
          "output_type": "stream",
          "name": "stdout",
          "text": [
            "Looking in indexes: https://pypi.org/simple, https://us-python.pkg.dev/colab-wheels/public/simple/\n",
            "Collecting geopandas\n",
            "  Downloading geopandas-0.10.2-py2.py3-none-any.whl (1.0 MB)\n",
            "\u001b[K     |████████████████████████████████| 1.0 MB 5.3 MB/s \n",
            "\u001b[?25hRequirement already satisfied: shapely>=1.6 in /usr/local/lib/python3.7/dist-packages (from geopandas) (1.8.5.post1)\n",
            "Requirement already satisfied: pandas>=0.25.0 in /usr/local/lib/python3.7/dist-packages (from geopandas) (1.3.5)\n",
            "Collecting pyproj>=2.2.0\n",
            "  Downloading pyproj-3.2.1-cp37-cp37m-manylinux2010_x86_64.whl (6.3 MB)\n",
            "\u001b[K     |████████████████████████████████| 6.3 MB 56.5 MB/s \n",
            "\u001b[?25hCollecting fiona>=1.8\n",
            "  Downloading Fiona-1.8.22-cp37-cp37m-manylinux2014_x86_64.whl (16.7 MB)\n",
            "\u001b[K     |████████████████████████████████| 16.7 MB 53.5 MB/s \n",
            "\u001b[?25hRequirement already satisfied: attrs>=17 in /usr/local/lib/python3.7/dist-packages (from fiona>=1.8->geopandas) (22.1.0)\n",
            "Requirement already satisfied: six>=1.7 in /usr/local/lib/python3.7/dist-packages (from fiona>=1.8->geopandas) (1.15.0)\n",
            "Collecting munch\n",
            "  Downloading munch-2.5.0-py2.py3-none-any.whl (10 kB)\n",
            "Requirement already satisfied: certifi in /usr/local/lib/python3.7/dist-packages (from fiona>=1.8->geopandas) (2022.9.24)\n",
            "Requirement already satisfied: setuptools in /usr/local/lib/python3.7/dist-packages (from fiona>=1.8->geopandas) (57.4.0)\n",
            "Collecting click-plugins>=1.0\n",
            "  Downloading click_plugins-1.1.1-py2.py3-none-any.whl (7.5 kB)\n",
            "Requirement already satisfied: click>=4.0 in /usr/local/lib/python3.7/dist-packages (from fiona>=1.8->geopandas) (7.1.2)\n",
            "Collecting cligj>=0.5\n",
            "  Downloading cligj-0.7.2-py3-none-any.whl (7.1 kB)\n",
            "Requirement already satisfied: pytz>=2017.3 in /usr/local/lib/python3.7/dist-packages (from pandas>=0.25.0->geopandas) (2022.6)\n",
            "Requirement already satisfied: numpy>=1.17.3 in /usr/local/lib/python3.7/dist-packages (from pandas>=0.25.0->geopandas) (1.21.6)\n",
            "Requirement already satisfied: python-dateutil>=2.7.3 in /usr/local/lib/python3.7/dist-packages (from pandas>=0.25.0->geopandas) (2.8.2)\n",
            "Installing collected packages: munch, cligj, click-plugins, pyproj, fiona, geopandas\n",
            "Successfully installed click-plugins-1.1.1 cligj-0.7.2 fiona-1.8.22 geopandas-0.10.2 munch-2.5.0 pyproj-3.2.1\n"
          ]
        }
      ]
    },
    {
      "cell_type": "code",
      "source": [
        "import geopandas as gpd #use geo files to translate the street names into actual st names"
      ],
      "metadata": {
        "id": "J4igsE3R7vmw"
      },
      "execution_count": null,
      "outputs": []
    },
    {
      "cell_type": "code",
      "source": [
        "# GeoJSON file that describes the segments\n",
        "url_seg = 'https://ckan0.cf.opendata.inter.prod-toronto.ca/dataset/b24095b2-8c2f-43d9-a257-b351c61432a6/resource/12f52800-9435-4c30-b38f-076b4dfedb32/download/bluetooth-travel-time-segments-geojson.geojson'\n",
        "\n",
        "input_df = gpd.read_file(url_seg)\n",
        "\n",
        "input_df.tail() #geo json file display "
      ],
      "metadata": {
        "id": "Xh-_Jkpy75a3",
        "colab": {
          "base_uri": "https://localhost:8080/",
          "height": 530
        },
        "outputId": "07187e34-b0e1-4a24-ee64-74261925c80a"
      },
      "execution_count": null,
      "outputs": [
        {
          "output_type": "execute_result",
          "data": {
            "text/plain": [
              "    segment_name      street direction from_intersection to_intersection  \\\n",
              "133  FR_YO_FR_UN       Front        WB             Yonge      University   \n",
              "134  FR_YO_KN_YO       Yonge        NB             Front            King   \n",
              "135  KN_PA_QU_PA  Parliament        NB              King           Queen   \n",
              "136  FR_BA_FR_SP       Front        EB          Bathurst         Spadina   \n",
              "137  FR_BA_KN_BA    Bathurst        NB             Front            King   \n",
              "\n",
              "     length                                           geometry  \n",
              "133     448  MULTILINESTRING ((-79.37697 43.64688, -79.3770...  \n",
              "134     259  MULTILINESTRING ((-79.37697 43.64688, -79.3773...  \n",
              "135     372  MULTILINESTRING ((-79.36325 43.65273, -79.3634...  \n",
              "136     609  MULTILINESTRING ((-79.40142 43.64075, -79.4007...  \n",
              "137     399  MULTILINESTRING ((-79.40142 43.64075, -79.4016...  "
            ],
            "text/html": [
              "\n",
              "  <div id=\"df-0434332b-78cc-480e-bc5e-d385fe1af068\">\n",
              "    <div class=\"colab-df-container\">\n",
              "      <div>\n",
              "<style scoped>\n",
              "    .dataframe tbody tr th:only-of-type {\n",
              "        vertical-align: middle;\n",
              "    }\n",
              "\n",
              "    .dataframe tbody tr th {\n",
              "        vertical-align: top;\n",
              "    }\n",
              "\n",
              "    .dataframe thead th {\n",
              "        text-align: right;\n",
              "    }\n",
              "</style>\n",
              "<table border=\"1\" class=\"dataframe\">\n",
              "  <thead>\n",
              "    <tr style=\"text-align: right;\">\n",
              "      <th></th>\n",
              "      <th>segment_name</th>\n",
              "      <th>street</th>\n",
              "      <th>direction</th>\n",
              "      <th>from_intersection</th>\n",
              "      <th>to_intersection</th>\n",
              "      <th>length</th>\n",
              "      <th>geometry</th>\n",
              "    </tr>\n",
              "  </thead>\n",
              "  <tbody>\n",
              "    <tr>\n",
              "      <th>133</th>\n",
              "      <td>FR_YO_FR_UN</td>\n",
              "      <td>Front</td>\n",
              "      <td>WB</td>\n",
              "      <td>Yonge</td>\n",
              "      <td>University</td>\n",
              "      <td>448</td>\n",
              "      <td>MULTILINESTRING ((-79.37697 43.64688, -79.3770...</td>\n",
              "    </tr>\n",
              "    <tr>\n",
              "      <th>134</th>\n",
              "      <td>FR_YO_KN_YO</td>\n",
              "      <td>Yonge</td>\n",
              "      <td>NB</td>\n",
              "      <td>Front</td>\n",
              "      <td>King</td>\n",
              "      <td>259</td>\n",
              "      <td>MULTILINESTRING ((-79.37697 43.64688, -79.3773...</td>\n",
              "    </tr>\n",
              "    <tr>\n",
              "      <th>135</th>\n",
              "      <td>KN_PA_QU_PA</td>\n",
              "      <td>Parliament</td>\n",
              "      <td>NB</td>\n",
              "      <td>King</td>\n",
              "      <td>Queen</td>\n",
              "      <td>372</td>\n",
              "      <td>MULTILINESTRING ((-79.36325 43.65273, -79.3634...</td>\n",
              "    </tr>\n",
              "    <tr>\n",
              "      <th>136</th>\n",
              "      <td>FR_BA_FR_SP</td>\n",
              "      <td>Front</td>\n",
              "      <td>EB</td>\n",
              "      <td>Bathurst</td>\n",
              "      <td>Spadina</td>\n",
              "      <td>609</td>\n",
              "      <td>MULTILINESTRING ((-79.40142 43.64075, -79.4007...</td>\n",
              "    </tr>\n",
              "    <tr>\n",
              "      <th>137</th>\n",
              "      <td>FR_BA_KN_BA</td>\n",
              "      <td>Bathurst</td>\n",
              "      <td>NB</td>\n",
              "      <td>Front</td>\n",
              "      <td>King</td>\n",
              "      <td>399</td>\n",
              "      <td>MULTILINESTRING ((-79.40142 43.64075, -79.4016...</td>\n",
              "    </tr>\n",
              "  </tbody>\n",
              "</table>\n",
              "</div>\n",
              "      <button class=\"colab-df-convert\" onclick=\"convertToInteractive('df-0434332b-78cc-480e-bc5e-d385fe1af068')\"\n",
              "              title=\"Convert this dataframe to an interactive table.\"\n",
              "              style=\"display:none;\">\n",
              "        \n",
              "  <svg xmlns=\"http://www.w3.org/2000/svg\" height=\"24px\"viewBox=\"0 0 24 24\"\n",
              "       width=\"24px\">\n",
              "    <path d=\"M0 0h24v24H0V0z\" fill=\"none\"/>\n",
              "    <path d=\"M18.56 5.44l.94 2.06.94-2.06 2.06-.94-2.06-.94-.94-2.06-.94 2.06-2.06.94zm-11 1L8.5 8.5l.94-2.06 2.06-.94-2.06-.94L8.5 2.5l-.94 2.06-2.06.94zm10 10l.94 2.06.94-2.06 2.06-.94-2.06-.94-.94-2.06-.94 2.06-2.06.94z\"/><path d=\"M17.41 7.96l-1.37-1.37c-.4-.4-.92-.59-1.43-.59-.52 0-1.04.2-1.43.59L10.3 9.45l-7.72 7.72c-.78.78-.78 2.05 0 2.83L4 21.41c.39.39.9.59 1.41.59.51 0 1.02-.2 1.41-.59l7.78-7.78 2.81-2.81c.8-.78.8-2.07 0-2.86zM5.41 20L4 18.59l7.72-7.72 1.47 1.35L5.41 20z\"/>\n",
              "  </svg>\n",
              "      </button>\n",
              "      \n",
              "  <style>\n",
              "    .colab-df-container {\n",
              "      display:flex;\n",
              "      flex-wrap:wrap;\n",
              "      gap: 12px;\n",
              "    }\n",
              "\n",
              "    .colab-df-convert {\n",
              "      background-color: #E8F0FE;\n",
              "      border: none;\n",
              "      border-radius: 50%;\n",
              "      cursor: pointer;\n",
              "      display: none;\n",
              "      fill: #1967D2;\n",
              "      height: 32px;\n",
              "      padding: 0 0 0 0;\n",
              "      width: 32px;\n",
              "    }\n",
              "\n",
              "    .colab-df-convert:hover {\n",
              "      background-color: #E2EBFA;\n",
              "      box-shadow: 0px 1px 2px rgba(60, 64, 67, 0.3), 0px 1px 3px 1px rgba(60, 64, 67, 0.15);\n",
              "      fill: #174EA6;\n",
              "    }\n",
              "\n",
              "    [theme=dark] .colab-df-convert {\n",
              "      background-color: #3B4455;\n",
              "      fill: #D2E3FC;\n",
              "    }\n",
              "\n",
              "    [theme=dark] .colab-df-convert:hover {\n",
              "      background-color: #434B5C;\n",
              "      box-shadow: 0px 1px 3px 1px rgba(0, 0, 0, 0.15);\n",
              "      filter: drop-shadow(0px 1px 2px rgba(0, 0, 0, 0.3));\n",
              "      fill: #FFFFFF;\n",
              "    }\n",
              "  </style>\n",
              "\n",
              "      <script>\n",
              "        const buttonEl =\n",
              "          document.querySelector('#df-0434332b-78cc-480e-bc5e-d385fe1af068 button.colab-df-convert');\n",
              "        buttonEl.style.display =\n",
              "          google.colab.kernel.accessAllowed ? 'block' : 'none';\n",
              "\n",
              "        async function convertToInteractive(key) {\n",
              "          const element = document.querySelector('#df-0434332b-78cc-480e-bc5e-d385fe1af068');\n",
              "          const dataTable =\n",
              "            await google.colab.kernel.invokeFunction('convertToInteractive',\n",
              "                                                     [key], {});\n",
              "          if (!dataTable) return;\n",
              "\n",
              "          const docLinkHtml = 'Like what you see? Visit the ' +\n",
              "            '<a target=\"_blank\" href=https://colab.research.google.com/notebooks/data_table.ipynb>data table notebook</a>'\n",
              "            + ' to learn more about interactive tables.';\n",
              "          element.innerHTML = '';\n",
              "          dataTable['output_type'] = 'display_data';\n",
              "          await google.colab.output.renderOutput(dataTable, element);\n",
              "          const docLink = document.createElement('div');\n",
              "          docLink.innerHTML = docLinkHtml;\n",
              "          element.appendChild(docLink);\n",
              "        }\n",
              "      </script>\n",
              "    </div>\n",
              "  </div>\n",
              "  "
            ]
          },
          "metadata": {},
          "execution_count": 5
        }
      ]
    },
    {
      "cell_type": "markdown",
      "source": [
        "**Yonge to Jarvis**"
      ],
      "metadata": {
        "id": "Qrh-I3B48OcZ"
      }
    },
    {
      "cell_type": "code",
      "source": [
        "#finding seg name of Yonge to Jarvis\n",
        "def get_segment(street_name, from_street, to_street, input_df):\n",
        "  df1 = input_df[input_df['street']=='King']  #input_df is the url saved data of line segments \n",
        "  df2 = df1[df1['from_intersection']=='Yonge'] #from Yonge\n",
        "  df3 = df2[df2['to_intersection']=='Jarvis'] #to Jarvis\n",
        "  \n",
        "  segment_code = df3['segment_name'].iloc[0]\n",
        "\n",
        "  return segment_code\n"
      ],
      "metadata": {
        "id": "EwluH2as8Gsx"
      },
      "execution_count": null,
      "outputs": []
    },
    {
      "cell_type": "code",
      "source": [
        "get_segment('King', 'Yonge', 'Jarvis', input_df)"
      ],
      "metadata": {
        "colab": {
          "base_uri": "https://localhost:8080/",
          "height": 38
        },
        "id": "VJkExFAp8VaA",
        "outputId": "4c5b107f-8021-400e-87d2-94479fbc2b35"
      },
      "execution_count": null,
      "outputs": [
        {
          "output_type": "execute_result",
          "data": {
            "text/plain": [
              "'KN_YO_KN_JA'"
            ],
            "application/vnd.google.colaboratory.intrinsic+json": {
              "type": "string"
            }
          },
          "metadata": {},
          "execution_count": 7
        }
      ]
    },
    {
      "cell_type": "code",
      "source": [
        "segment_of_interest = get_segment('King', 'Yonge', 'Jarvis', input_df)\n",
        "print(segment_of_interest) #get segment name"
      ],
      "metadata": {
        "colab": {
          "base_uri": "https://localhost:8080/"
        },
        "id": "FPpTL35ZDrmJ",
        "outputId": "6de2fbfb-11e4-4337-91a7-e35cc3f555db"
      },
      "execution_count": null,
      "outputs": [
        {
          "output_type": "stream",
          "name": "stdout",
          "text": [
            "KN_YO_KN_JA\n"
          ]
        }
      ]
    },
    {
      "cell_type": "code",
      "source": [
        "yonge_jarvis= travel_times[travel_times['result_id'] == 'KN_YO_KN_JA']\n",
        "yonge_jarvis.head()"
      ],
      "metadata": {
        "colab": {
          "base_uri": "https://localhost:8080/",
          "height": 337
        },
        "id": "jWtnWTzIYuQA",
        "outputId": "1e7f0ae6-722e-4977-fc04-daf9efe1645b"
      },
      "execution_count": null,
      "outputs": [
        {
          "output_type": "execute_result",
          "data": {
            "text/plain": [
              "          result_id         datetime_bin day_type  category period_name  \\\n",
              "552151  KN_YO_KN_JA  2017-09-21 00:05:00  Weekday  Baseline         NaN   \n",
              "552152  KN_YO_KN_JA  2017-09-21 00:20:00  Weekday  Baseline         NaN   \n",
              "552153  KN_YO_KN_JA  2017-09-21 00:25:00  Weekday  Baseline         NaN   \n",
              "552154  KN_YO_KN_JA  2017-09-21 00:35:00  Weekday  Baseline         NaN   \n",
              "552155  KN_YO_KN_JA  2017-09-21 00:45:00  Weekday  Baseline         NaN   \n",
              "\n",
              "           tt  obs  \n",
              "552151   50.0    1  \n",
              "552152   77.0    1  \n",
              "552153  129.0    1  \n",
              "552154   99.5    2  \n",
              "552155  115.0    2  "
            ],
            "text/html": [
              "\n",
              "  <div id=\"df-cf6c02d0-185d-47c4-a067-87a6ccecefdd\">\n",
              "    <div class=\"colab-df-container\">\n",
              "      <div>\n",
              "<style scoped>\n",
              "    .dataframe tbody tr th:only-of-type {\n",
              "        vertical-align: middle;\n",
              "    }\n",
              "\n",
              "    .dataframe tbody tr th {\n",
              "        vertical-align: top;\n",
              "    }\n",
              "\n",
              "    .dataframe thead th {\n",
              "        text-align: right;\n",
              "    }\n",
              "</style>\n",
              "<table border=\"1\" class=\"dataframe\">\n",
              "  <thead>\n",
              "    <tr style=\"text-align: right;\">\n",
              "      <th></th>\n",
              "      <th>result_id</th>\n",
              "      <th>datetime_bin</th>\n",
              "      <th>day_type</th>\n",
              "      <th>category</th>\n",
              "      <th>period_name</th>\n",
              "      <th>tt</th>\n",
              "      <th>obs</th>\n",
              "    </tr>\n",
              "  </thead>\n",
              "  <tbody>\n",
              "    <tr>\n",
              "      <th>552151</th>\n",
              "      <td>KN_YO_KN_JA</td>\n",
              "      <td>2017-09-21 00:05:00</td>\n",
              "      <td>Weekday</td>\n",
              "      <td>Baseline</td>\n",
              "      <td>NaN</td>\n",
              "      <td>50.0</td>\n",
              "      <td>1</td>\n",
              "    </tr>\n",
              "    <tr>\n",
              "      <th>552152</th>\n",
              "      <td>KN_YO_KN_JA</td>\n",
              "      <td>2017-09-21 00:20:00</td>\n",
              "      <td>Weekday</td>\n",
              "      <td>Baseline</td>\n",
              "      <td>NaN</td>\n",
              "      <td>77.0</td>\n",
              "      <td>1</td>\n",
              "    </tr>\n",
              "    <tr>\n",
              "      <th>552153</th>\n",
              "      <td>KN_YO_KN_JA</td>\n",
              "      <td>2017-09-21 00:25:00</td>\n",
              "      <td>Weekday</td>\n",
              "      <td>Baseline</td>\n",
              "      <td>NaN</td>\n",
              "      <td>129.0</td>\n",
              "      <td>1</td>\n",
              "    </tr>\n",
              "    <tr>\n",
              "      <th>552154</th>\n",
              "      <td>KN_YO_KN_JA</td>\n",
              "      <td>2017-09-21 00:35:00</td>\n",
              "      <td>Weekday</td>\n",
              "      <td>Baseline</td>\n",
              "      <td>NaN</td>\n",
              "      <td>99.5</td>\n",
              "      <td>2</td>\n",
              "    </tr>\n",
              "    <tr>\n",
              "      <th>552155</th>\n",
              "      <td>KN_YO_KN_JA</td>\n",
              "      <td>2017-09-21 00:45:00</td>\n",
              "      <td>Weekday</td>\n",
              "      <td>Baseline</td>\n",
              "      <td>NaN</td>\n",
              "      <td>115.0</td>\n",
              "      <td>2</td>\n",
              "    </tr>\n",
              "  </tbody>\n",
              "</table>\n",
              "</div>\n",
              "      <button class=\"colab-df-convert\" onclick=\"convertToInteractive('df-cf6c02d0-185d-47c4-a067-87a6ccecefdd')\"\n",
              "              title=\"Convert this dataframe to an interactive table.\"\n",
              "              style=\"display:none;\">\n",
              "        \n",
              "  <svg xmlns=\"http://www.w3.org/2000/svg\" height=\"24px\"viewBox=\"0 0 24 24\"\n",
              "       width=\"24px\">\n",
              "    <path d=\"M0 0h24v24H0V0z\" fill=\"none\"/>\n",
              "    <path d=\"M18.56 5.44l.94 2.06.94-2.06 2.06-.94-2.06-.94-.94-2.06-.94 2.06-2.06.94zm-11 1L8.5 8.5l.94-2.06 2.06-.94-2.06-.94L8.5 2.5l-.94 2.06-2.06.94zm10 10l.94 2.06.94-2.06 2.06-.94-2.06-.94-.94-2.06-.94 2.06-2.06.94z\"/><path d=\"M17.41 7.96l-1.37-1.37c-.4-.4-.92-.59-1.43-.59-.52 0-1.04.2-1.43.59L10.3 9.45l-7.72 7.72c-.78.78-.78 2.05 0 2.83L4 21.41c.39.39.9.59 1.41.59.51 0 1.02-.2 1.41-.59l7.78-7.78 2.81-2.81c.8-.78.8-2.07 0-2.86zM5.41 20L4 18.59l7.72-7.72 1.47 1.35L5.41 20z\"/>\n",
              "  </svg>\n",
              "      </button>\n",
              "      \n",
              "  <style>\n",
              "    .colab-df-container {\n",
              "      display:flex;\n",
              "      flex-wrap:wrap;\n",
              "      gap: 12px;\n",
              "    }\n",
              "\n",
              "    .colab-df-convert {\n",
              "      background-color: #E8F0FE;\n",
              "      border: none;\n",
              "      border-radius: 50%;\n",
              "      cursor: pointer;\n",
              "      display: none;\n",
              "      fill: #1967D2;\n",
              "      height: 32px;\n",
              "      padding: 0 0 0 0;\n",
              "      width: 32px;\n",
              "    }\n",
              "\n",
              "    .colab-df-convert:hover {\n",
              "      background-color: #E2EBFA;\n",
              "      box-shadow: 0px 1px 2px rgba(60, 64, 67, 0.3), 0px 1px 3px 1px rgba(60, 64, 67, 0.15);\n",
              "      fill: #174EA6;\n",
              "    }\n",
              "\n",
              "    [theme=dark] .colab-df-convert {\n",
              "      background-color: #3B4455;\n",
              "      fill: #D2E3FC;\n",
              "    }\n",
              "\n",
              "    [theme=dark] .colab-df-convert:hover {\n",
              "      background-color: #434B5C;\n",
              "      box-shadow: 0px 1px 3px 1px rgba(0, 0, 0, 0.15);\n",
              "      filter: drop-shadow(0px 1px 2px rgba(0, 0, 0, 0.3));\n",
              "      fill: #FFFFFF;\n",
              "    }\n",
              "  </style>\n",
              "\n",
              "      <script>\n",
              "        const buttonEl =\n",
              "          document.querySelector('#df-cf6c02d0-185d-47c4-a067-87a6ccecefdd button.colab-df-convert');\n",
              "        buttonEl.style.display =\n",
              "          google.colab.kernel.accessAllowed ? 'block' : 'none';\n",
              "\n",
              "        async function convertToInteractive(key) {\n",
              "          const element = document.querySelector('#df-cf6c02d0-185d-47c4-a067-87a6ccecefdd');\n",
              "          const dataTable =\n",
              "            await google.colab.kernel.invokeFunction('convertToInteractive',\n",
              "                                                     [key], {});\n",
              "          if (!dataTable) return;\n",
              "\n",
              "          const docLinkHtml = 'Like what you see? Visit the ' +\n",
              "            '<a target=\"_blank\" href=https://colab.research.google.com/notebooks/data_table.ipynb>data table notebook</a>'\n",
              "            + ' to learn more about interactive tables.';\n",
              "          element.innerHTML = '';\n",
              "          dataTable['output_type'] = 'display_data';\n",
              "          await google.colab.output.renderOutput(dataTable, element);\n",
              "          const docLink = document.createElement('div');\n",
              "          docLink.innerHTML = docLinkHtml;\n",
              "          element.appendChild(docLink);\n",
              "        }\n",
              "      </script>\n",
              "    </div>\n",
              "  </div>\n",
              "  "
            ]
          },
          "metadata": {},
          "execution_count": 9
        }
      ]
    },
    {
      "cell_type": "code",
      "source": [
        "yonge_jarvis['period_name'].unique()"
      ],
      "metadata": {
        "colab": {
          "base_uri": "https://localhost:8080/"
        },
        "id": "oenFwsMOa7hU",
        "outputId": "d53e231e-22a1-4c77-d3d2-180f6c048b1d"
      },
      "execution_count": null,
      "outputs": [
        {
          "output_type": "execute_result",
          "data": {
            "text/plain": [
              "array([nan, 'AM Peak', 'Midday', 'PM Peak', 'Evening', 'Morning',\n",
              "       'Afternoon'], dtype=object)"
            ]
          },
          "metadata": {},
          "execution_count": 10
        }
      ]
    },
    {
      "cell_type": "code",
      "source": [
        "#clean data\n",
        "yonge_jarvis = yonge_jarvis.dropna(subset=['period_name'])"
      ],
      "metadata": {
        "id": "639idAnDbX5W"
      },
      "execution_count": null,
      "outputs": []
    },
    {
      "cell_type": "code",
      "source": [
        "yonge_jarvis['category'].unique()"
      ],
      "metadata": {
        "colab": {
          "base_uri": "https://localhost:8080/"
        },
        "id": "KAEgxEeQb92p",
        "outputId": "9d847d6f-ad70-4702-994a-b50e94d83112"
      },
      "execution_count": null,
      "outputs": [
        {
          "output_type": "execute_result",
          "data": {
            "text/plain": [
              "array(['Baseline', 'Excluded', 'Pilot'], dtype=object)"
            ]
          },
          "metadata": {},
          "execution_count": 12
        }
      ]
    },
    {
      "cell_type": "code",
      "source": [
        "yonge_jarvis = yonge_jarvis[yonge_jarvis['category'] != 'Excluded']"
      ],
      "metadata": {
        "id": "GnokqC7tcpjq"
      },
      "execution_count": null,
      "outputs": []
    },
    {
      "cell_type": "code",
      "source": [
        "yonge_jarvis['category'].unique()"
      ],
      "metadata": {
        "colab": {
          "base_uri": "https://localhost:8080/"
        },
        "id": "ItF6D7lxcqJz",
        "outputId": "b7e952d6-6818-4e4c-d330-75f3af584ff7"
      },
      "execution_count": null,
      "outputs": [
        {
          "output_type": "execute_result",
          "data": {
            "text/plain": [
              "array(['Baseline', 'Pilot'], dtype=object)"
            ]
          },
          "metadata": {},
          "execution_count": 14
        }
      ]
    },
    {
      "cell_type": "markdown",
      "source": [
        "analyze practice"
      ],
      "metadata": {
        "id": "LfQWDRKP8NJR"
      }
    },
    {
      "cell_type": "code",
      "source": [
        "def get_anallysis(input_times, segment_of_interest, group_column, minutes): \n",
        "  yonge_jarvis = input_times[input_times['result_id'] == 'KN_YO_KN_JA']\n",
        "  \n",
        "  yonge_jarvis = yonge_jarvis.dropna(subset=['period_name'])\n",
        "\n",
        "  yonge_jarvis = yonge_jarvis[yonge_jarvis['category'] != 'Excluded']\n",
        "\n",
        "  compare_summary = yonge_jarvis.groupby(['category', group_column]).mean()\n",
        "\n",
        "  compare_summary = compare_summary.reset_index()\n",
        "\n",
        "  pivoted_data = compare_summary.pivot(index=group_column, columns='category', values='tt')\n",
        "\n",
        " # if minutes == true:\n",
        "  #  pivoted_data = pivoted_data \n",
        "\n",
        "  pivoted_data['pct_diff'] = (pivoted_data['Pilot'] - pivoted_data['Baseline'])/pivoted_data['Baseline']*100\n",
        "\n",
        "  return pivoted_data\n"
      ],
      "metadata": {
        "id": "3H_MYOE2EZJ1"
      },
      "execution_count": null,
      "outputs": []
    },
    {
      "cell_type": "markdown",
      "source": [
        "analyze practice"
      ],
      "metadata": {
        "id": "noe1fRGw8ziD"
      }
    },
    {
      "cell_type": "code",
      "source": [
        "segment_of_interest = get_segment('King', 'Yonge', 'Jarvis', input_df)\n",
        "\n",
        "get_anallysis(travel_times, segment_of_interest, 'period_name', True)"
      ],
      "metadata": {
        "colab": {
          "base_uri": "https://localhost:8080/",
          "height": 269
        },
        "id": "Q5YaOSpnEZnV",
        "outputId": "7a6b672d-c951-469f-a437-1a4e7acd5c6e"
      },
      "execution_count": null,
      "outputs": [
        {
          "output_type": "execute_result",
          "data": {
            "text/plain": [
              "category       Baseline       Pilot    pct_diff\n",
              "period_name                                    \n",
              "AM Peak      106.689542  165.700000   55.310442\n",
              "Afternoon    121.519231  292.961864  141.082718\n",
              "Evening      112.717364  133.356000   18.310077\n",
              "Midday       144.938258  162.703065   12.256810\n",
              "Morning       95.299213  139.648148   46.536518\n",
              "PM Peak      145.785294  192.757246   32.219952"
            ],
            "text/html": [
              "\n",
              "  <div id=\"df-e66bf32d-ef73-455d-ba1c-fca25006e9aa\">\n",
              "    <div class=\"colab-df-container\">\n",
              "      <div>\n",
              "<style scoped>\n",
              "    .dataframe tbody tr th:only-of-type {\n",
              "        vertical-align: middle;\n",
              "    }\n",
              "\n",
              "    .dataframe tbody tr th {\n",
              "        vertical-align: top;\n",
              "    }\n",
              "\n",
              "    .dataframe thead th {\n",
              "        text-align: right;\n",
              "    }\n",
              "</style>\n",
              "<table border=\"1\" class=\"dataframe\">\n",
              "  <thead>\n",
              "    <tr style=\"text-align: right;\">\n",
              "      <th>category</th>\n",
              "      <th>Baseline</th>\n",
              "      <th>Pilot</th>\n",
              "      <th>pct_diff</th>\n",
              "    </tr>\n",
              "    <tr>\n",
              "      <th>period_name</th>\n",
              "      <th></th>\n",
              "      <th></th>\n",
              "      <th></th>\n",
              "    </tr>\n",
              "  </thead>\n",
              "  <tbody>\n",
              "    <tr>\n",
              "      <th>AM Peak</th>\n",
              "      <td>106.689542</td>\n",
              "      <td>165.700000</td>\n",
              "      <td>55.310442</td>\n",
              "    </tr>\n",
              "    <tr>\n",
              "      <th>Afternoon</th>\n",
              "      <td>121.519231</td>\n",
              "      <td>292.961864</td>\n",
              "      <td>141.082718</td>\n",
              "    </tr>\n",
              "    <tr>\n",
              "      <th>Evening</th>\n",
              "      <td>112.717364</td>\n",
              "      <td>133.356000</td>\n",
              "      <td>18.310077</td>\n",
              "    </tr>\n",
              "    <tr>\n",
              "      <th>Midday</th>\n",
              "      <td>144.938258</td>\n",
              "      <td>162.703065</td>\n",
              "      <td>12.256810</td>\n",
              "    </tr>\n",
              "    <tr>\n",
              "      <th>Morning</th>\n",
              "      <td>95.299213</td>\n",
              "      <td>139.648148</td>\n",
              "      <td>46.536518</td>\n",
              "    </tr>\n",
              "    <tr>\n",
              "      <th>PM Peak</th>\n",
              "      <td>145.785294</td>\n",
              "      <td>192.757246</td>\n",
              "      <td>32.219952</td>\n",
              "    </tr>\n",
              "  </tbody>\n",
              "</table>\n",
              "</div>\n",
              "      <button class=\"colab-df-convert\" onclick=\"convertToInteractive('df-e66bf32d-ef73-455d-ba1c-fca25006e9aa')\"\n",
              "              title=\"Convert this dataframe to an interactive table.\"\n",
              "              style=\"display:none;\">\n",
              "        \n",
              "  <svg xmlns=\"http://www.w3.org/2000/svg\" height=\"24px\"viewBox=\"0 0 24 24\"\n",
              "       width=\"24px\">\n",
              "    <path d=\"M0 0h24v24H0V0z\" fill=\"none\"/>\n",
              "    <path d=\"M18.56 5.44l.94 2.06.94-2.06 2.06-.94-2.06-.94-.94-2.06-.94 2.06-2.06.94zm-11 1L8.5 8.5l.94-2.06 2.06-.94-2.06-.94L8.5 2.5l-.94 2.06-2.06.94zm10 10l.94 2.06.94-2.06 2.06-.94-2.06-.94-.94-2.06-.94 2.06-2.06.94z\"/><path d=\"M17.41 7.96l-1.37-1.37c-.4-.4-.92-.59-1.43-.59-.52 0-1.04.2-1.43.59L10.3 9.45l-7.72 7.72c-.78.78-.78 2.05 0 2.83L4 21.41c.39.39.9.59 1.41.59.51 0 1.02-.2 1.41-.59l7.78-7.78 2.81-2.81c.8-.78.8-2.07 0-2.86zM5.41 20L4 18.59l7.72-7.72 1.47 1.35L5.41 20z\"/>\n",
              "  </svg>\n",
              "      </button>\n",
              "      \n",
              "  <style>\n",
              "    .colab-df-container {\n",
              "      display:flex;\n",
              "      flex-wrap:wrap;\n",
              "      gap: 12px;\n",
              "    }\n",
              "\n",
              "    .colab-df-convert {\n",
              "      background-color: #E8F0FE;\n",
              "      border: none;\n",
              "      border-radius: 50%;\n",
              "      cursor: pointer;\n",
              "      display: none;\n",
              "      fill: #1967D2;\n",
              "      height: 32px;\n",
              "      padding: 0 0 0 0;\n",
              "      width: 32px;\n",
              "    }\n",
              "\n",
              "    .colab-df-convert:hover {\n",
              "      background-color: #E2EBFA;\n",
              "      box-shadow: 0px 1px 2px rgba(60, 64, 67, 0.3), 0px 1px 3px 1px rgba(60, 64, 67, 0.15);\n",
              "      fill: #174EA6;\n",
              "    }\n",
              "\n",
              "    [theme=dark] .colab-df-convert {\n",
              "      background-color: #3B4455;\n",
              "      fill: #D2E3FC;\n",
              "    }\n",
              "\n",
              "    [theme=dark] .colab-df-convert:hover {\n",
              "      background-color: #434B5C;\n",
              "      box-shadow: 0px 1px 3px 1px rgba(0, 0, 0, 0.15);\n",
              "      filter: drop-shadow(0px 1px 2px rgba(0, 0, 0, 0.3));\n",
              "      fill: #FFFFFF;\n",
              "    }\n",
              "  </style>\n",
              "\n",
              "      <script>\n",
              "        const buttonEl =\n",
              "          document.querySelector('#df-e66bf32d-ef73-455d-ba1c-fca25006e9aa button.colab-df-convert');\n",
              "        buttonEl.style.display =\n",
              "          google.colab.kernel.accessAllowed ? 'block' : 'none';\n",
              "\n",
              "        async function convertToInteractive(key) {\n",
              "          const element = document.querySelector('#df-e66bf32d-ef73-455d-ba1c-fca25006e9aa');\n",
              "          const dataTable =\n",
              "            await google.colab.kernel.invokeFunction('convertToInteractive',\n",
              "                                                     [key], {});\n",
              "          if (!dataTable) return;\n",
              "\n",
              "          const docLinkHtml = 'Like what you see? Visit the ' +\n",
              "            '<a target=\"_blank\" href=https://colab.research.google.com/notebooks/data_table.ipynb>data table notebook</a>'\n",
              "            + ' to learn more about interactive tables.';\n",
              "          element.innerHTML = '';\n",
              "          dataTable['output_type'] = 'display_data';\n",
              "          await google.colab.output.renderOutput(dataTable, element);\n",
              "          const docLink = document.createElement('div');\n",
              "          docLink.innerHTML = docLinkHtml;\n",
              "          element.appendChild(docLink);\n",
              "        }\n",
              "      </script>\n",
              "    </div>\n",
              "  </div>\n",
              "  "
            ]
          },
          "metadata": {},
          "execution_count": 16
        }
      ]
    },
    {
      "cell_type": "code",
      "source": [
        "segment_of_interest = get_segment('King', 'Yonge', 'Jarvis', input_df)\n",
        "\n",
        "get_anallysis(travel_times, segment_of_interest, 'period_name', False)"
      ],
      "metadata": {
        "colab": {
          "base_uri": "https://localhost:8080/",
          "height": 269
        },
        "id": "W6ORJUyfcV8Y",
        "outputId": "83c74f31-ba1f-45ed-d3cf-c34ad3831745"
      },
      "execution_count": null,
      "outputs": [
        {
          "output_type": "execute_result",
          "data": {
            "text/plain": [
              "category       Baseline       Pilot    pct_diff\n",
              "period_name                                    \n",
              "AM Peak      106.689542  165.700000   55.310442\n",
              "Afternoon    121.519231  292.961864  141.082718\n",
              "Evening      112.717364  133.356000   18.310077\n",
              "Midday       144.938258  162.703065   12.256810\n",
              "Morning       95.299213  139.648148   46.536518\n",
              "PM Peak      145.785294  192.757246   32.219952"
            ],
            "text/html": [
              "\n",
              "  <div id=\"df-453fd448-bf07-4301-a4e9-b2df98950a44\">\n",
              "    <div class=\"colab-df-container\">\n",
              "      <div>\n",
              "<style scoped>\n",
              "    .dataframe tbody tr th:only-of-type {\n",
              "        vertical-align: middle;\n",
              "    }\n",
              "\n",
              "    .dataframe tbody tr th {\n",
              "        vertical-align: top;\n",
              "    }\n",
              "\n",
              "    .dataframe thead th {\n",
              "        text-align: right;\n",
              "    }\n",
              "</style>\n",
              "<table border=\"1\" class=\"dataframe\">\n",
              "  <thead>\n",
              "    <tr style=\"text-align: right;\">\n",
              "      <th>category</th>\n",
              "      <th>Baseline</th>\n",
              "      <th>Pilot</th>\n",
              "      <th>pct_diff</th>\n",
              "    </tr>\n",
              "    <tr>\n",
              "      <th>period_name</th>\n",
              "      <th></th>\n",
              "      <th></th>\n",
              "      <th></th>\n",
              "    </tr>\n",
              "  </thead>\n",
              "  <tbody>\n",
              "    <tr>\n",
              "      <th>AM Peak</th>\n",
              "      <td>106.689542</td>\n",
              "      <td>165.700000</td>\n",
              "      <td>55.310442</td>\n",
              "    </tr>\n",
              "    <tr>\n",
              "      <th>Afternoon</th>\n",
              "      <td>121.519231</td>\n",
              "      <td>292.961864</td>\n",
              "      <td>141.082718</td>\n",
              "    </tr>\n",
              "    <tr>\n",
              "      <th>Evening</th>\n",
              "      <td>112.717364</td>\n",
              "      <td>133.356000</td>\n",
              "      <td>18.310077</td>\n",
              "    </tr>\n",
              "    <tr>\n",
              "      <th>Midday</th>\n",
              "      <td>144.938258</td>\n",
              "      <td>162.703065</td>\n",
              "      <td>12.256810</td>\n",
              "    </tr>\n",
              "    <tr>\n",
              "      <th>Morning</th>\n",
              "      <td>95.299213</td>\n",
              "      <td>139.648148</td>\n",
              "      <td>46.536518</td>\n",
              "    </tr>\n",
              "    <tr>\n",
              "      <th>PM Peak</th>\n",
              "      <td>145.785294</td>\n",
              "      <td>192.757246</td>\n",
              "      <td>32.219952</td>\n",
              "    </tr>\n",
              "  </tbody>\n",
              "</table>\n",
              "</div>\n",
              "      <button class=\"colab-df-convert\" onclick=\"convertToInteractive('df-453fd448-bf07-4301-a4e9-b2df98950a44')\"\n",
              "              title=\"Convert this dataframe to an interactive table.\"\n",
              "              style=\"display:none;\">\n",
              "        \n",
              "  <svg xmlns=\"http://www.w3.org/2000/svg\" height=\"24px\"viewBox=\"0 0 24 24\"\n",
              "       width=\"24px\">\n",
              "    <path d=\"M0 0h24v24H0V0z\" fill=\"none\"/>\n",
              "    <path d=\"M18.56 5.44l.94 2.06.94-2.06 2.06-.94-2.06-.94-.94-2.06-.94 2.06-2.06.94zm-11 1L8.5 8.5l.94-2.06 2.06-.94-2.06-.94L8.5 2.5l-.94 2.06-2.06.94zm10 10l.94 2.06.94-2.06 2.06-.94-2.06-.94-.94-2.06-.94 2.06-2.06.94z\"/><path d=\"M17.41 7.96l-1.37-1.37c-.4-.4-.92-.59-1.43-.59-.52 0-1.04.2-1.43.59L10.3 9.45l-7.72 7.72c-.78.78-.78 2.05 0 2.83L4 21.41c.39.39.9.59 1.41.59.51 0 1.02-.2 1.41-.59l7.78-7.78 2.81-2.81c.8-.78.8-2.07 0-2.86zM5.41 20L4 18.59l7.72-7.72 1.47 1.35L5.41 20z\"/>\n",
              "  </svg>\n",
              "      </button>\n",
              "      \n",
              "  <style>\n",
              "    .colab-df-container {\n",
              "      display:flex;\n",
              "      flex-wrap:wrap;\n",
              "      gap: 12px;\n",
              "    }\n",
              "\n",
              "    .colab-df-convert {\n",
              "      background-color: #E8F0FE;\n",
              "      border: none;\n",
              "      border-radius: 50%;\n",
              "      cursor: pointer;\n",
              "      display: none;\n",
              "      fill: #1967D2;\n",
              "      height: 32px;\n",
              "      padding: 0 0 0 0;\n",
              "      width: 32px;\n",
              "    }\n",
              "\n",
              "    .colab-df-convert:hover {\n",
              "      background-color: #E2EBFA;\n",
              "      box-shadow: 0px 1px 2px rgba(60, 64, 67, 0.3), 0px 1px 3px 1px rgba(60, 64, 67, 0.15);\n",
              "      fill: #174EA6;\n",
              "    }\n",
              "\n",
              "    [theme=dark] .colab-df-convert {\n",
              "      background-color: #3B4455;\n",
              "      fill: #D2E3FC;\n",
              "    }\n",
              "\n",
              "    [theme=dark] .colab-df-convert:hover {\n",
              "      background-color: #434B5C;\n",
              "      box-shadow: 0px 1px 3px 1px rgba(0, 0, 0, 0.15);\n",
              "      filter: drop-shadow(0px 1px 2px rgba(0, 0, 0, 0.3));\n",
              "      fill: #FFFFFF;\n",
              "    }\n",
              "  </style>\n",
              "\n",
              "      <script>\n",
              "        const buttonEl =\n",
              "          document.querySelector('#df-453fd448-bf07-4301-a4e9-b2df98950a44 button.colab-df-convert');\n",
              "        buttonEl.style.display =\n",
              "          google.colab.kernel.accessAllowed ? 'block' : 'none';\n",
              "\n",
              "        async function convertToInteractive(key) {\n",
              "          const element = document.querySelector('#df-453fd448-bf07-4301-a4e9-b2df98950a44');\n",
              "          const dataTable =\n",
              "            await google.colab.kernel.invokeFunction('convertToInteractive',\n",
              "                                                     [key], {});\n",
              "          if (!dataTable) return;\n",
              "\n",
              "          const docLinkHtml = 'Like what you see? Visit the ' +\n",
              "            '<a target=\"_blank\" href=https://colab.research.google.com/notebooks/data_table.ipynb>data table notebook</a>'\n",
              "            + ' to learn more about interactive tables.';\n",
              "          element.innerHTML = '';\n",
              "          dataTable['output_type'] = 'display_data';\n",
              "          await google.colab.output.renderOutput(dataTable, element);\n",
              "          const docLink = document.createElement('div');\n",
              "          docLink.innerHTML = docLinkHtml;\n",
              "          element.appendChild(docLink);\n",
              "        }\n",
              "      </script>\n",
              "    </div>\n",
              "  </div>\n",
              "  "
            ]
          },
          "metadata": {},
          "execution_count": 17
        }
      ]
    },
    {
      "cell_type": "code",
      "source": [],
      "metadata": {
        "id": "-Y1hvUGncgvB"
      },
      "execution_count": null,
      "outputs": []
    },
    {
      "cell_type": "code",
      "source": [
        "# To change your analysis, you only have to change the variable names.\n",
        "street = 'King'\n",
        "from_street = 'Yonge'\n",
        "to_street = 'Jarvis'\n",
        "grouping_column = 'day_type'\n",
        "minutes_bool = False\n",
        "# --\n",
        "# You do NOT have to change any code below this line.\n",
        "\n",
        "time_unit = 'seconds'\n",
        "if minutes_bool == True:\n",
        "    time_unit = 'minutes'\n",
        "\n",
        "segment_of_interest = get_segment(street, from_street, to_street, input_df)\n",
        "\n",
        "pivoted_data = get_anallysis(travel_times, segment_of_interest, grouping_column, minutes_bool)\n",
        "\n",
        "# Print the pivoted data\n",
        "print('Travel time in ' + time_unit)\n",
        "print('----------------')\n",
        "print(pivoted_data)\n",
        "\n",
        "print('')\n",
        "# Plot the pivoted data\n",
        "ax1 = pivoted_data['pct_diff'].plot(kind='bar', figsize=(12, 6))\n",
        "\n",
        "ax1.set_ylabel('Percent Change [%]')\n",
        "\n",
        "ax1.set_xlabel('Period Name')\n",
        "\n",
        "ax1.set_title('Percent Change in Travel Time: ' + from_street + ' to ' + to_street)"
      ],
      "metadata": {
        "id": "ZkQWX4mxAFmw",
        "colab": {
          "base_uri": "https://localhost:8080/",
          "height": 537
        },
        "outputId": "f831f5a8-71a3-49ea-c02d-42f720291ae6"
      },
      "execution_count": null,
      "outputs": [
        {
          "output_type": "stream",
          "name": "stdout",
          "text": [
            "Travel time in seconds\n",
            "----------------\n",
            "category    Baseline       Pilot   pct_diff\n",
            "day_type                                   \n",
            "Weekday   132.187818  159.828892  20.910455\n",
            "Weekend   111.291602  193.236422  73.630731\n",
            "\n"
          ]
        },
        {
          "output_type": "execute_result",
          "data": {
            "text/plain": [
              "Text(0.5, 1.0, 'Percent Change in Travel Time: Yonge to Jarvis')"
            ]
          },
          "metadata": {},
          "execution_count": 20
        },
        {
          "output_type": "display_data",
          "data": {
            "text/plain": [
              "<Figure size 864x432 with 1 Axes>"
            ],
            "image/png": "[encoded data removed]"
          },
          "metadata": {
            "needs_background": "light"
          }
        }
      ]
    },
    {
      "cell_type": "markdown",
      "source": [],
      "metadata": {
        "id": "AbBWtWV2WCit"
      }
    },
    {
      "cell_type": "markdown",
      "source": [
        "**Jarvis to Parliament**"
      ],
      "metadata": {
        "id": "U5s4XdFb_SZ8"
      }
    },
    {
      "cell_type": "code",
      "source": [
        "get_segment('King', 'Jarvis', 'Parliament', input_df)"
      ],
      "metadata": {
        "colab": {
          "base_uri": "https://localhost:8080/",
          "height": 38
        },
        "id": "zGIMJoKXV_Cc",
        "outputId": "afc2b717-04d6-4078-b054-47eabc3cbd55"
      },
      "execution_count": null,
      "outputs": [
        {
          "output_type": "execute_result",
          "data": {
            "text/plain": [
              "'KN_YO_KN_JA'"
            ],
            "application/vnd.google.colaboratory.intrinsic+json": {
              "type": "string"
            }
          },
          "metadata": {},
          "execution_count": 21
        }
      ]
    },
    {
      "cell_type": "code",
      "source": [
        "seg_jar_par = get_segment('King', 'Jarvis', 'Parliament', input_df)\n",
        "print(seg_jar_par)"
      ],
      "metadata": {
        "colab": {
          "base_uri": "https://localhost:8080/"
        },
        "id": "Ec04lVuVaddq",
        "outputId": "fd300f64-05d9-471d-93a2-01692e05cbfe"
      },
      "execution_count": null,
      "outputs": [
        {
          "output_type": "stream",
          "name": "stdout",
          "text": [
            "KN_YO_KN_JA\n"
          ]
        }
      ]
    },
    {
      "cell_type": "code",
      "source": [
        "segment_of_interest = get_segment('King', 'Jarvis', 'Parliament', input_df)\n",
        "\n",
        "get_anallysis(travel_times, segment_of_interest, 'period_name', True)\n",
        "\n"
      ],
      "metadata": {
        "colab": {
          "base_uri": "https://localhost:8080/",
          "height": 269
        },
        "id": "HaYJeqRAy_In",
        "outputId": "602e29cf-5586-47af-efce-7ad69d1d8226"
      },
      "execution_count": null,
      "outputs": [
        {
          "output_type": "execute_result",
          "data": {
            "text/plain": [
              "category       Baseline       Pilot    pct_diff\n",
              "period_name                                    \n",
              "AM Peak      106.689542  165.700000   55.310442\n",
              "Afternoon    121.519231  292.961864  141.082718\n",
              "Evening      112.717364  133.356000   18.310077\n",
              "Midday       144.938258  162.703065   12.256810\n",
              "Morning       95.299213  139.648148   46.536518\n",
              "PM Peak      145.785294  192.757246   32.219952"
            ],
            "text/html": [
              "\n",
              "  <div id=\"df-26bc8fd8-a574-4548-a878-47d0f9e1045c\">\n",
              "    <div class=\"colab-df-container\">\n",
              "      <div>\n",
              "<style scoped>\n",
              "    .dataframe tbody tr th:only-of-type {\n",
              "        vertical-align: middle;\n",
              "    }\n",
              "\n",
              "    .dataframe tbody tr th {\n",
              "        vertical-align: top;\n",
              "    }\n",
              "\n",
              "    .dataframe thead th {\n",
              "        text-align: right;\n",
              "    }\n",
              "</style>\n",
              "<table border=\"1\" class=\"dataframe\">\n",
              "  <thead>\n",
              "    <tr style=\"text-align: right;\">\n",
              "      <th>category</th>\n",
              "      <th>Baseline</th>\n",
              "      <th>Pilot</th>\n",
              "      <th>pct_diff</th>\n",
              "    </tr>\n",
              "    <tr>\n",
              "      <th>period_name</th>\n",
              "      <th></th>\n",
              "      <th></th>\n",
              "      <th></th>\n",
              "    </tr>\n",
              "  </thead>\n",
              "  <tbody>\n",
              "    <tr>\n",
              "      <th>AM Peak</th>\n",
              "      <td>106.689542</td>\n",
              "      <td>165.700000</td>\n",
              "      <td>55.310442</td>\n",
              "    </tr>\n",
              "    <tr>\n",
              "      <th>Afternoon</th>\n",
              "      <td>121.519231</td>\n",
              "      <td>292.961864</td>\n",
              "      <td>141.082718</td>\n",
              "    </tr>\n",
              "    <tr>\n",
              "      <th>Evening</th>\n",
              "      <td>112.717364</td>\n",
              "      <td>133.356000</td>\n",
              "      <td>18.310077</td>\n",
              "    </tr>\n",
              "    <tr>\n",
              "      <th>Midday</th>\n",
              "      <td>144.938258</td>\n",
              "      <td>162.703065</td>\n",
              "      <td>12.256810</td>\n",
              "    </tr>\n",
              "    <tr>\n",
              "      <th>Morning</th>\n",
              "      <td>95.299213</td>\n",
              "      <td>139.648148</td>\n",
              "      <td>46.536518</td>\n",
              "    </tr>\n",
              "    <tr>\n",
              "      <th>PM Peak</th>\n",
              "      <td>145.785294</td>\n",
              "      <td>192.757246</td>\n",
              "      <td>32.219952</td>\n",
              "    </tr>\n",
              "  </tbody>\n",
              "</table>\n",
              "</div>\n",
              "      <button class=\"colab-df-convert\" onclick=\"convertToInteractive('df-26bc8fd8-a574-4548-a878-47d0f9e1045c')\"\n",
              "              title=\"Convert this dataframe to an interactive table.\"\n",
              "              style=\"display:none;\">\n",
              "        \n",
              "  <svg xmlns=\"http://www.w3.org/2000/svg\" height=\"24px\"viewBox=\"0 0 24 24\"\n",
              "       width=\"24px\">\n",
              "    <path d=\"M0 0h24v24H0V0z\" fill=\"none\"/>\n",
              "    <path d=\"M18.56 5.44l.94 2.06.94-2.06 2.06-.94-2.06-.94-.94-2.06-.94 2.06-2.06.94zm-11 1L8.5 8.5l.94-2.06 2.06-.94-2.06-.94L8.5 2.5l-.94 2.06-2.06.94zm10 10l.94 2.06.94-2.06 2.06-.94-2.06-.94-.94-2.06-.94 2.06-2.06.94z\"/><path d=\"M17.41 7.96l-1.37-1.37c-.4-.4-.92-.59-1.43-.59-.52 0-1.04.2-1.43.59L10.3 9.45l-7.72 7.72c-.78.78-.78 2.05 0 2.83L4 21.41c.39.39.9.59 1.41.59.51 0 1.02-.2 1.41-.59l7.78-7.78 2.81-2.81c.8-.78.8-2.07 0-2.86zM5.41 20L4 18.59l7.72-7.72 1.47 1.35L5.41 20z\"/>\n",
              "  </svg>\n",
              "      </button>\n",
              "      \n",
              "  <style>\n",
              "    .colab-df-container {\n",
              "      display:flex;\n",
              "      flex-wrap:wrap;\n",
              "      gap: 12px;\n",
              "    }\n",
              "\n",
              "    .colab-df-convert {\n",
              "      background-color: #E8F0FE;\n",
              "      border: none;\n",
              "      border-radius: 50%;\n",
              "      cursor: pointer;\n",
              "      display: none;\n",
              "      fill: #1967D2;\n",
              "      height: 32px;\n",
              "      padding: 0 0 0 0;\n",
              "      width: 32px;\n",
              "    }\n",
              "\n",
              "    .colab-df-convert:hover {\n",
              "      background-color: #E2EBFA;\n",
              "      box-shadow: 0px 1px 2px rgba(60, 64, 67, 0.3), 0px 1px 3px 1px rgba(60, 64, 67, 0.15);\n",
              "      fill: #174EA6;\n",
              "    }\n",
              "\n",
              "    [theme=dark] .colab-df-convert {\n",
              "      background-color: #3B4455;\n",
              "      fill: #D2E3FC;\n",
              "    }\n",
              "\n",
              "    [theme=dark] .colab-df-convert:hover {\n",
              "      background-color: #434B5C;\n",
              "      box-shadow: 0px 1px 3px 1px rgba(0, 0, 0, 0.15);\n",
              "      filter: drop-shadow(0px 1px 2px rgba(0, 0, 0, 0.3));\n",
              "      fill: #FFFFFF;\n",
              "    }\n",
              "  </style>\n",
              "\n",
              "      <script>\n",
              "        const buttonEl =\n",
              "          document.querySelector('#df-26bc8fd8-a574-4548-a878-47d0f9e1045c button.colab-df-convert');\n",
              "        buttonEl.style.display =\n",
              "          google.colab.kernel.accessAllowed ? 'block' : 'none';\n",
              "\n",
              "        async function convertToInteractive(key) {\n",
              "          const element = document.querySelector('#df-26bc8fd8-a574-4548-a878-47d0f9e1045c');\n",
              "          const dataTable =\n",
              "            await google.colab.kernel.invokeFunction('convertToInteractive',\n",
              "                                                     [key], {});\n",
              "          if (!dataTable) return;\n",
              "\n",
              "          const docLinkHtml = 'Like what you see? Visit the ' +\n",
              "            '<a target=\"_blank\" href=https://colab.research.google.com/notebooks/data_table.ipynb>data table notebook</a>'\n",
              "            + ' to learn more about interactive tables.';\n",
              "          element.innerHTML = '';\n",
              "          dataTable['output_type'] = 'display_data';\n",
              "          await google.colab.output.renderOutput(dataTable, element);\n",
              "          const docLink = document.createElement('div');\n",
              "          docLink.innerHTML = docLinkHtml;\n",
              "          element.appendChild(docLink);\n",
              "        }\n",
              "      </script>\n",
              "    </div>\n",
              "  </div>\n",
              "  "
            ]
          },
          "metadata": {},
          "execution_count": 23
        }
      ]
    },
    {
      "cell_type": "code",
      "source": [
        "# To change your analysis, you only have to change the variable names.\n",
        "street = 'King'\n",
        "from_street = 'Jarvis'\n",
        "to_street = 'Parliament'\n",
        "grouping_column = 'day_type'\n",
        "minutes_bool = False\n",
        "# --\n",
        "# You do NOT have to change any code below this line.\n",
        "\n",
        "time_unit = 'seconds'\n",
        "if minutes_bool == True:\n",
        "    time_unit = 'minutes'\n",
        "\n",
        "segment_of_interest = get_segment(street, from_street, to_street, input_df)\n",
        "\n",
        "pivoted_data = get_anallysis(travel_times, segment_of_interest, grouping_column, minutes_bool)\n",
        "\n",
        "# Print the pivoted data\n",
        "print('Travel time in ' + time_unit)\n",
        "print('----------------')\n",
        "print(pivoted_data)\n",
        "\n",
        "print('')\n",
        "# Plot the pivoted data\n",
        "ax1 = pivoted_data['pct_diff'].plot(kind='bar', figsize=(12, 6))\n",
        "\n",
        "ax1.set_ylabel('Percent Change [%]')\n",
        "\n",
        "ax1.set_xlabel('Period Name')\n",
        "\n",
        "ax1.set_title('Percent Change in Travel Time: ' + from_street + ' to ' + to_street)"
      ],
      "metadata": {
        "colab": {
          "base_uri": "https://localhost:8080/",
          "height": 537
        },
        "id": "CHLb4YXWR5Us",
        "outputId": "7311adcb-5bfa-4957-e8a2-d2b99da40409"
      },
      "execution_count": null,
      "outputs": [
        {
          "output_type": "stream",
          "name": "stdout",
          "text": [
            "Travel time in seconds\n",
            "----------------\n",
            "category    Baseline       Pilot   pct_diff\n",
            "day_type                                   \n",
            "Weekday   132.187818  159.828892  20.910455\n",
            "Weekend   111.291602  193.236422  73.630731\n",
            "\n"
          ]
        },
        {
          "output_type": "execute_result",
          "data": {
            "text/plain": [
              "Text(0.5, 1.0, 'Percent Change in Travel Time: Jarvis to Parliament')"
            ]
          },
          "metadata": {},
          "execution_count": 24
        },
        {
          "output_type": "display_data",
          "data": {
            "text/plain": [
              "<Figure size 864x432 with 1 Axes>"
            ],
            "image/png": "[encoded data removed]"
          },
          "metadata": {
            "needs_background": "light"
          }
        }
      ]
    }
  ]
}