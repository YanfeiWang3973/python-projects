{
  "cells": [
    {
      "cell_type": "markdown",
      "metadata": {
        "id": "Zrvl6vJRJXvZ"
      },
      "source": [
        "# Q1: Two Sum"
      ]
    },
    {
      "cell_type": "code",
      "execution_count": null,
      "metadata": {
        "id": "byMfys5IJXvd"
      },
      "outputs": [],
      "source": [
        "# question:\n",
        "\n",
        "# Given an array of integers nums and an integer target, return indices of the two numbers such that they add up to target.\n",
        "# You may assume that each input would have exactly one solution, and you may not use the same element twice.\n",
        "# You can return the answer in any order.\n",
        "\n",
        "# Input: nums = [2,7,11,15], target = 9\n",
        "# Output: [0,1]\n",
        "# Output: Because nums[0] + nums[1] == 9, we return [0, 1].\n",
        "# while 0 and 1 represent the order number is nums\n",
        "nums = [2,7,11,15]\n",
        "target = 9"
      ]
    },
    {
      "cell_type": "markdown",
      "metadata": {
        "id": "4jzg_a6kJXvf"
      },
      "source": [
        "Approach 1: brute force\n",
        "\n",
        "- take the 1st number from the list, and then add one number from the rest of the list individually,\n",
        "- check if the sum equals to the target.\n",
        "- if yes, return the index of the two numbers, otherwise, move on to the 2nd number and repeat.\n",
        "\n",
        "![Q1.1.png](attachment:Q1.1.png)"
      ]
    },
    {
      "cell_type": "markdown",
      "metadata": {
        "id": "UbUJxrC2JXvg"
      },
      "source": [
        "Problems with Approach #1:\n",
        "- double for loop would take a lot of time\n",
        "- time: n+(n-1)+(n-2)+...+1 -> n(n+1)/2 -> O(n^2)"
      ]
    },
    {
      "cell_type": "code",
      "source": [
        "def brute_force(set, target):\n",
        "  n = len(set)\n",
        "  for i in range(n):\n",
        "    for j in range(n+1):\n",
        "      if set[i]+set[j] == target:\n",
        "        return (i,j)\n",
        "\n",
        "nums = [2,7,11,15]\n",
        "target = 9\n",
        "result = brute_force(nums, target)\n",
        "print(result)"
      ],
      "metadata": {
        "colab": {
          "base_uri": "https://localhost:8080/"
        },
        "outputId": "522e32e6-cee6-4db8-8e27-c0d3ac866125",
        "id": "ph_3AnIbLbIE"
      },
      "execution_count": null,
      "outputs": [
        {
          "output_type": "stream",
          "name": "stdout",
          "text": [
            "(0, 1)\n"
          ]
        }
      ]
    },
    {
      "cell_type": "markdown",
      "metadata": {
        "id": "VfkGrSkOJXvg"
      },
      "source": [
        "Approach 2: hashmap\n",
        "\n",
        "- Try to get rid of the inner for loop (we need to use two for loops to iterate the index for each number).\n",
        "- Save one value and its index in a dictionary, so that we only need to iterate one index.\n",
        "\n",
        "![Q1.2.png](attachment:Q1.2.png)"
      ]
    },
    {
      "cell_type": "code",
      "source": [
        "def twoSum_2(nums, target):\n",
        "  #creat a hushmap\n",
        "  num_dict = {}\n",
        "\n",
        "  for i, num in enumerate(nums):\n",
        "    #see if the third number in the list that's given\n",
        "    #the list that's given is nums\n",
        "    third_number = target - num\n",
        "    if third_number in num_dict:\n",
        "      return[num_dict[third_number], i]\n",
        "    num_dict[num]=i #this is in the for loop!\n",
        "\n",
        "  return None\n",
        "\n"
      ],
      "metadata": {
        "id": "vcNYwUtg39MB"
      },
      "execution_count": null,
      "outputs": []
    },
    {
      "cell_type": "code",
      "source": [
        "nums = [2, 7, 11, 15]\n",
        "target = 9\n",
        "result = twoSum_2(nums, target)\n",
        "print(result)"
      ],
      "metadata": {
        "colab": {
          "base_uri": "https://localhost:8080/"
        },
        "id": "FSmePwIV6OUS",
        "outputId": "fec1b493-d8d5-4f2b-a5a9-35d4b923218b"
      },
      "execution_count": null,
      "outputs": [
        {
          "output_type": "stream",
          "name": "stdout",
          "text": [
            "[0, 1]\n"
          ]
        }
      ]
    },
    {
      "cell_type": "markdown",
      "metadata": {
        "id": "ugs7YgXzJXvh"
      },
      "source": [
        "# Q20: Vaild Parentheses"
      ]
    },
    {
      "cell_type": "code",
      "execution_count": null,
      "metadata": {
        "id": "zuBZq85PJXvh"
      },
      "outputs": [],
      "source": [
        "# Question:\n",
        "\n",
        "# Given a string s containing just the characters '(', ')', '{', '}', '[' and ']', determine if the input string is valid.\n",
        "# An input string is valid if:\n",
        "# Open brackets must be closed by the same type of brackets.\n",
        "# Open brackets must be closed in the correct order.\n",
        "\n",
        "# Input: s = \"()[]{}\"\n",
        "# Output: true\n",
        "# Input: s = \"([)]\"\n",
        "# Output: false\n",
        "\n",
        "s = \"()[{}\""
      ]
    },
    {
      "cell_type": "markdown",
      "metadata": {
        "id": "1FRghl1oJXvh"
      },
      "source": [
        "Logic:\n",
        "    \n",
        "- When the item is on the left side of parentheses, we would like to record the corresponding half to a list\n",
        "- when the item is on the right side of parentheses, we would like to remove it from the list\n",
        "- Once the list is empty, that means all the parentheses are shown in pairs.\n",
        "- Need to take care of the following condition:\n",
        "    -     1. \"(\"\n",
        "    -     2. \"]\"\n",
        "    -     3. \"( [ ) ]\"\n",
        "    -     4. \"{ } [ )\"\n",
        "    \n",
        "![Q20.png](attachment:Q20.png)"
      ]
    },
    {
      "cell_type": "code",
      "source": [
        "def isValid(s):\n",
        "    stack = []  # Stack to keep track of opening brackets\n",
        "\n",
        "    # Dictionary to store the mapping of opening and closing brackets\n",
        "    bracket_map = {')': '(', '}': '{', ']': '['}\n",
        "\n",
        "    for char in s:\n",
        "        if char in bracket_map.values():\n",
        "            # If the character is an opening bracket, push it onto the stack\n",
        "            stack.append(char)\n",
        "        elif char in bracket_map.keys():\n",
        "            # If the character is a closing bracket\n",
        "            if not stack or stack.pop() != bracket_map[char]:\n",
        "                # If the stack is empty or the top of the stack doesn't match\n",
        "                # the corresponding opening bracket, the string is invalid\n",
        "                return False\n",
        "        else:\n",
        "            # If the character is not a valid bracket, return False\n",
        "            return False\n",
        "\n",
        "    # If the stack is empty, all opening brackets have been closed\n",
        "    return not stack\n",
        "\n",
        "# Example usage:\n",
        "s1 = \"()[]{}\"\n",
        "s2 = \"([)]\"\n",
        "\n",
        "print(isValid(s1))  # Output: True\n",
        "print(isValid(s2))  # Output: False\n"
      ],
      "metadata": {
        "colab": {
          "base_uri": "https://localhost:8080/"
        },
        "id": "BZ6FGKTpdTYw",
        "outputId": "2ca33f94-3443-42ef-869c-72000f091300"
      },
      "execution_count": null,
      "outputs": [
        {
          "output_type": "stream",
          "name": "stdout",
          "text": [
            "True\n",
            "False\n"
          ]
        }
      ]
    },
    {
      "cell_type": "markdown",
      "metadata": {
        "id": "z9uhpNGsJXvi"
      },
      "source": [
        "# Q53: Maximum Subarray"
      ]
    },
    {
      "cell_type": "code",
      "execution_count": null,
      "metadata": {
        "id": "1gQ1guV6JXvi"
      },
      "outputs": [],
      "source": [
        "# Question:\n",
        "\n",
        "# Given an integer array nums, find the contiguous subarray (containing at least one number) which has the largest sum and return its sum.\n",
        "# Follow up: If you have figured out the O(n) solution, try coding another solution using the divide and conquer approach, which is more subtle.\n",
        "\n",
        "# Input: nums = [-2,1,-3,4,-1,2,1,-5,4]\n",
        "# Output: 6\n",
        "# Explanation: [4,-1,2,1] has the largest sum = 6.\n",
        "\n",
        "nums = [-2,1,-3,4,-1,2,1,-5,4]"
      ]
    },
    {
      "cell_type": "markdown",
      "metadata": {
        "id": "UTLBefpYJXvi"
      },
      "source": [
        "Approach 1:\n",
        "\n",
        "- For the first number, find all the combinations of contiguous sub-array and check the sum.\n",
        "- When the new sub-arrary sum is greater than the global sum, then replace the global sum.\n",
        "- Repeat this step onto the rest of the list\n",
        "\n",
        "![Q53.1.png](attachment:Q53.1.png)"
      ]
    },
    {
      "cell_type": "code",
      "execution_count": null,
      "metadata": {
        "id": "C8valQZSJXvj"
      },
      "outputs": [],
      "source": [
        "def maxSubArray_1(nums):\n",
        "        # Check if the input list is empty\n",
        "    if not nums:\n",
        "        return None\n",
        "\n",
        "    # Initialize variables to store global and current sums\n",
        "    global_sum = current_sum = nums[0]\n",
        "\n",
        "    # Iterate through the list starting from the second element\n",
        "    for num in nums[1:]:\n",
        "        # Choose the maximum between the current number and the sum of the current number and the current sum\n",
        "        current_sum = max(num, current_sum + num)\n",
        "\n",
        "        # Update the global sum if the current sum becomes greater\n",
        "        global_sum = max(global_sum, current_sum)\n",
        "\n",
        "    return global_sum\n",
        "\n"
      ]
    },
    {
      "cell_type": "code",
      "source": [
        "nums = [1, -2, 3, -4, 5, -6, 7, -8]\n",
        "result = maxSubArray_1(nums)\n",
        "print(result)\n"
      ],
      "metadata": {
        "colab": {
          "base_uri": "https://localhost:8080/"
        },
        "id": "RNb1v28LNWMa",
        "outputId": "e9c6c660-fd3a-4fa5-8543-9afa39407391"
      },
      "execution_count": null,
      "outputs": [
        {
          "output_type": "stream",
          "name": "stdout",
          "text": [
            "7\n"
          ]
        }
      ]
    },
    {
      "cell_type": "markdown",
      "metadata": {
        "id": "Z2Eq5FU7JXvj"
      },
      "source": [
        "Problems with Approach #1:\n",
        "- double for loop would take a lot of time"
      ]
    },
    {
      "cell_type": "markdown",
      "metadata": {
        "id": "cut4lbawJXvj"
      },
      "source": [
        "Approach 2: Kadane's Algorithm\n",
        "\n",
        "- for arrary that has at least one positive number, the maximum sub-arrary sum must be greater than 0.\n",
        "- Therefore, if the next value plus the current local max is below 0, then reset it to 0.\n",
        "- Imagine a ball is rolling foward, whenever it hits the valley, the elevtion will be reseted to 0.\n",
        "- If the ball hits a mountain top, then records that elevation\n",
        "\n",
        "![Q53.2.png](attachment:Q53.2.png)"
      ]
    },
    {
      "cell_type": "code",
      "execution_count": null,
      "metadata": {
        "id": "iuxkDUVLJXvj"
      },
      "outputs": [],
      "source": [
        "def maxSubArray_2(nums):\n",
        "\n",
        "\n",
        "\n",
        "maxSubArray_2(nums)"
      ]
    },
    {
      "cell_type": "code",
      "source": [
        "def maxSubArray(nums):\n",
        "    max_sum = float('-inf')  # Initialize max_sum to negative infinity\n",
        "    current_sum = 0  # Initialize current_sum to 0\n",
        "\n",
        "    for num in nums:\n",
        "        current_sum = max(num, current_sum + num)\n",
        "        max_sum = max(max_sum, current_sum)\n",
        "\n",
        "    return max_sum\n",
        "\n",
        "# Example usage:\n",
        "nums = [-2, 1, -3, 4, -1, 2, 1, -5, 4]\n",
        "result = maxSubArray(nums)\n",
        "print(result)\n"
      ],
      "metadata": {
        "colab": {
          "base_uri": "https://localhost:8080/"
        },
        "id": "XcAKktJQdfTn",
        "outputId": "a3e3ba7b-e605-4f58-bc02-415c47056eeb"
      },
      "execution_count": null,
      "outputs": [
        {
          "output_type": "stream",
          "name": "stdout",
          "text": [
            "6\n"
          ]
        }
      ]
    },
    {
      "cell_type": "markdown",
      "metadata": {
        "id": "znfco9ZNJXvj"
      },
      "source": [
        "# Q136. Single Number"
      ]
    },
    {
      "cell_type": "code",
      "execution_count": null,
      "metadata": {
        "id": "mgbwZyt3JXvj"
      },
      "outputs": [],
      "source": [
        "# Question:\n",
        "\n",
        "# Given a non-empty array of integers nums, every element appears twice except for one. Find that single one.\n",
        "# Follow up: Could you implement a solution with a linear runtime complexity and without using extra memory?\n",
        "\n",
        "# Input: nums = [2,2,1]\n",
        "# Output: 1\n",
        "# Input: nums = [4,1,2,1,2]\n",
        "# Output: 4\n",
        "# Input: nums = [1]\n",
        "# Output: 1\n",
        "\n",
        "nums = [4,1,2,1,2]"
      ]
    },
    {
      "cell_type": "markdown",
      "metadata": {
        "id": "FTjH22_cJXvk"
      },
      "source": [
        "Approach 1:\n",
        "\n",
        "- Generate a list to hold each item from the original list.\n",
        "- If the number does not exist, then add to the list. Otherwise, remove it from the list as duplicate.\n",
        "- At the end, there should be only one value which is single number.\n",
        "\n",
        "![Q136.1.png](attachment:Q136.1.png)"
      ]
    },
    {
      "cell_type": "code",
      "source": [
        "def singleNumber_1(nums):\n",
        "    # Create an empty list to store unique numbers\n",
        "    unique_nums = []\n",
        "\n",
        "    # Iterate through the input list\n",
        "    for num in nums:\n",
        "        # If the number is not in the unique_nums list, add it\n",
        "        if num not in unique_nums:\n",
        "            unique_nums.append(num)\n",
        "        # If the number is already in the unique_nums list, remove it\n",
        "        else:\n",
        "            unique_nums.remove(num)\n",
        "\n",
        "    # The remaining element in unique_nums is the single number\n",
        "    return unique_nums[0]\n",
        "\n",
        "# Example usage:\n",
        "nums1 = [2, 2, 1]\n",
        "nums2 = [4, 1, 2, 1, 2]\n",
        "nums3 = [1]\n",
        "\n",
        "result1 = singleNumber_1(nums1)\n",
        "result2 = singleNumber_1(nums2)\n",
        "result3 = singleNumber_1(nums3)\n",
        "\n",
        "print(\"Output for nums1:\", result1)\n",
        "print(\"Output for nums2:\", result2)\n",
        "print(\"Output for nums3:\", result3)\n"
      ],
      "metadata": {
        "colab": {
          "base_uri": "https://localhost:8080/"
        },
        "id": "sjF4uLHNUzOv",
        "outputId": "d4d92884-e32e-4f5e-82ab-f9dc2d42cd35"
      },
      "execution_count": null,
      "outputs": [
        {
          "output_type": "stream",
          "name": "stdout",
          "text": [
            "Output for nums1: 1\n",
            "Output for nums2: 4\n",
            "Output for nums3: 1\n"
          ]
        }
      ]
    },
    {
      "cell_type": "markdown",
      "metadata": {
        "id": "A4PW4zIbJXvk"
      },
      "source": [
        "Problems with Approach #1:\n",
        "- takes additional memory to create the unique list."
      ]
    },
    {
      "cell_type": "markdown",
      "metadata": {
        "id": "0U1Uf1zEJXvk"
      },
      "source": [
        "Approach 2:\n",
        "\n",
        "- Create a dictionary to store each value and its associated appearances.\n",
        "- If the value is seen for the first time, add to the dictionary and set counter as 1.\n",
        "- Otherwise, add 1 to the counter.\n",
        "- Select the value where counter equals to 1\n",
        "\n",
        "![Q136.2.png](attachment:Q136.2.png)"
      ]
    },
    {
      "cell_type": "code",
      "source": [
        "def singleNumber_2(nums):\n",
        "    # Create a dictionary to store each value and its appearances\n",
        "    num_dict = {}\n",
        "\n",
        "    # Iterate through the input list\n",
        "    for num in nums:\n",
        "        # If the value is seen for the first time, add to the dictionary with counter as 1\n",
        "        if num not in num_dict:\n",
        "            num_dict[num] = 1\n",
        "        # If the value is seen again, increment the counter\n",
        "        else:\n",
        "            num_dict[num] += 1\n",
        "\n",
        "    # Iterate through the dictionary to find the value with counter equals to 1\n",
        "    for key, value in num_dict.items():\n",
        "        if value == 1:\n",
        "            return key\n",
        "\n",
        "# Example usage:\n",
        "nums1 = [2, 2, 1]\n",
        "nums2 = [4, 1, 2, 1, 2]\n",
        "nums3 = [1]\n",
        "\n",
        "result1 = singleNumber_2(nums1)\n",
        "result2 = singleNumber_2(nums2)\n",
        "result3 = singleNumber_2(nums3)\n",
        "\n",
        "print(\"Output for nums1:\", result1)\n",
        "print(\"Output for nums2:\", result2)\n",
        "print(\"Output for nums3:\", result3)\n"
      ],
      "metadata": {
        "id": "Zq7l-K28Whh3"
      },
      "execution_count": null,
      "outputs": []
    },
    {
      "cell_type": "markdown",
      "metadata": {
        "id": "RbIkwOx3JXvk"
      },
      "source": [
        "Approach 3:\n",
        "\n",
        "- convert list to set to remove duplicates"
      ]
    },
    {
      "cell_type": "code",
      "source": [
        "def singleNumber_3(nums):\n",
        "    result = 0\n",
        "    for num in nums:\n",
        "        result ^= num\n",
        "    return result\n",
        "\n",
        "# Example usage:\n",
        "nums1 = [2, 2, 1]\n",
        "nums2 = [4, 1, 2, 1, 2]\n",
        "nums3 = [1]\n",
        "\n",
        "print(singleNumber_3(nums1))  # Output: 1\n",
        "print(singleNumber_3(nums2))  # Output: 4\n",
        "print(singleNumber_3(nums3))  # Output: 1\n"
      ],
      "metadata": {
        "colab": {
          "base_uri": "https://localhost:8080/"
        },
        "id": "CZ1RVCSsdpI8",
        "outputId": "3a35dc67-e56b-40f7-f656-295f0e197513"
      },
      "execution_count": null,
      "outputs": [
        {
          "output_type": "stream",
          "name": "stdout",
          "text": [
            "1\n",
            "4\n",
            "1\n"
          ]
        }
      ]
    }
  ],
  "metadata": {
    "kernelspec": {
      "display_name": "Python 3",
      "language": "python",
      "name": "python3"
    },
    "language_info": {
      "codemirror_mode": {
        "name": "ipython",
        "version": 3
      },
      "file_extension": ".py",
      "mimetype": "text/x-python",
      "name": "python",
      "nbconvert_exporter": "python",
      "pygments_lexer": "ipython3",
      "version": "3.8.5"
    },
    "colab": {
      "provenance": []
    }
  },
  "nbformat": 4,
  "nbformat_minor": 0
}